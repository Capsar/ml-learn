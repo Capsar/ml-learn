{
 "cells": [
  {
   "cell_type": "code",
   "execution_count": 1,
   "metadata": {
    "collapsed": false
   },
   "outputs": [
    {
     "name": "stdout",
     "output_type": "stream",
     "text": [
      "Using matplotlib backend: MacOSX\n",
      "Populating the interactive namespace from numpy and matplotlib\n",
      "CPython 3.5.2\n",
      "IPython 5.1.0\n",
      "\n",
      "scipy 0.18.1\n",
      "numpy 1.11.3\n",
      "sklearn 0.18.1\n",
      "tensorflow 0.12.0\n",
      "\n",
      "compiler   : GCC 4.2.1 Compatible Apple LLVM 4.2 (clang-425.0.28)\n",
      "system     : Darwin\n",
      "release    : 16.3.0\n",
      "machine    : x86_64\n",
      "processor  : i386\n",
      "CPU cores  : 8\n",
      "interpreter: 64bit\n"
     ]
    }
   ],
   "source": [
    "%pylab\n",
    "%matplotlib inline\n",
    "%load_ext watermark\n",
    "%watermark -v -m -p scipy,numpy,sklearn,tensorflow"
   ]
  },
  {
   "cell_type": "code",
   "execution_count": 2,
   "metadata": {
    "collapsed": true
   },
   "outputs": [],
   "source": [
    "from sklearn.datasets import load_digits\n",
    "digits = load_digits()\n",
    "digits_data = digits.data / 16"
   ]
  },
  {
   "cell_type": "code",
   "execution_count": 3,
   "metadata": {
    "collapsed": true
   },
   "outputs": [],
   "source": [
    "from sklearn.model_selection import train_test_split\n",
    "X_train, X_test, y_train, y_test = train_test_split(digits_data, digits.target, test_size=0.1, random_state=1)"
   ]
  },
  {
   "cell_type": "code",
   "execution_count": 4,
   "metadata": {
    "collapsed": false
   },
   "outputs": [
    {
     "name": "stdout",
     "output_type": "stream",
     "text": [
      "(1617, 10) (180, 10)\n"
     ]
    }
   ],
   "source": [
    "from sklearn.preprocessing import OneHotEncoder\n",
    "ohe = OneHotEncoder(n_values=10)\n",
    "y_train_enc = ohe.fit_transform(y_train.reshape(-1, 1)).toarray()\n",
    "y_test_enc = ohe.fit_transform(y_test.reshape(-1, 1)).toarray()\n",
    "print(y_train_enc.shape, y_test_enc.shape)"
   ]
  },
  {
   "cell_type": "code",
   "execution_count": 5,
   "metadata": {
    "collapsed": true
   },
   "outputs": [],
   "source": [
    "import tensorflow as tf"
   ]
  },
  {
   "cell_type": "code",
   "execution_count": 6,
   "metadata": {
    "collapsed": false
   },
   "outputs": [],
   "source": [
    "X = tf.placeholder(tf.float32, [None, 64])\n",
    "X_input = tf.reshape(X, [-1, 8, 8, 1])\n",
    "Y = tf.placeholder(tf.float32, [None, 10])\n",
    "\n",
    "W_1 = tf.Variable(tf.random_normal([3, 3, 1, 32], mean=0, stddev=1/np.sqrt(64)))\n",
    "b_1 = tf.Variable(tf.random_normal([32], mean=0, stddev=1/np.sqrt(64)))\n",
    "z_1 = tf.nn.conv2d(X_input, W_1, strides=[1, 1, 1, 1], padding='SAME') + b_1\n",
    "h_1 = tf.nn.relu(z_1)\n",
    "\n",
    "p_1 = tf.nn.max_pool(h_1, ksize=[1, 2, 2, 1], strides=[1, 2, 2, 1], padding='SAME')\n",
    "p_1_flat = tf.reshape(p_1, [-1, 4*4*32])\n",
    "\n",
    "W_2 = tf.Variable(tf.random_normal([4*4*32, 300], mean=0, stddev=1/np.sqrt(4*4*32)))\n",
    "b_2 = tf.Variable(tf.random_normal([300], mean=0, stddev=1/np.sqrt(4*4*32)))\n",
    "z_2 = tf.matmul(p_1_flat, W_2) + b_2\n",
    "h_2 = tf.nn.relu(z_2)\n",
    "\n",
    "W_3 = tf.Variable(tf.random_normal([300, 10], mean=0, stddev=1/np.sqrt(300)))\n",
    "b_3 = tf.Variable(tf.random_normal([10], mean=0, stddev=1/np.sqrt(300)))\n",
    "z_3 = tf.matmul(h_2, W_3) + b_3\n",
    "y_ = tf.nn.softmax(z_3)\n",
    "\n",
    "init = tf.global_variables_initializer()\n",
    "\n",
    "cost_function = -tf.reduce_sum(Y * tf.log(y_))\n",
    "optimizer = tf.train.GradientDescentOptimizer(0.0001).minimize(cost_function)\n",
    "\n",
    "correct_prediction = tf.equal(tf.argmax(y_, 1), tf.argmax(Y, 1))\n",
    "accuracy = tf.reduce_mean(tf.cast(correct_prediction, tf.float32))"
   ]
  },
  {
   "cell_type": "code",
   "execution_count": 7,
   "metadata": {
    "collapsed": false
   },
   "outputs": [
    {
     "name": "stdout",
     "output_type": "stream",
     "text": [
      "step 0, training accuracy 2.29004, 0.168213\n",
      "step 100, training accuracy 0.248097, 0.93321\n",
      "step 200, training accuracy 0.0983939, 0.979592\n",
      "step 300, training accuracy 0.0630571, 0.98825\n",
      "step 400, training accuracy 0.0428284, 0.993816\n",
      "step 500, training accuracy 0.03126, 0.996908\n",
      "step 600, training accuracy 0.0237844, 0.996908\n",
      "step 700, training accuracy 0.018652, 0.996908\n",
      "step 800, training accuracy 0.0150017, 0.997526\n",
      "step 900, training accuracy 0.0123227, 0.998763\n",
      "step 1000, training accuracy 0.0103063, 0.999382\n",
      "step 1100, training accuracy 0.00876254, 1\n",
      "step 1200, training accuracy 0.00755651, 1\n",
      "step 1300, training accuracy 0.00659935, 1\n",
      "step 1400, training accuracy 0.00582309, 1\n",
      "step 1500, training accuracy 0.00518464, 1\n",
      "step 1600, training accuracy 0.00465386, 1\n",
      "step 1700, training accuracy 0.00420816, 1\n",
      "step 1800, training accuracy 0.00382953, 1\n",
      "step 1900, training accuracy 0.00350546, 1\n",
      "test accuracy 0.988889\n"
     ]
    }
   ],
   "source": [
    "with tf.Session() as sess:\n",
    "    sess.run(init)\n",
    "    for i in range(2000):\n",
    "        _, cost = sess.run([optimizer, cost_function], feed_dict={X: X_train, Y: y_train_enc})\n",
    "        if i % 100 == 0:\n",
    "            train_accuracy = sess.run(accuracy, feed_dict={X: X_train, Y: y_train_enc})\n",
    "            print(\"step %d, training accuracy %g, %g\"%(i, cost/X_train.shape[0], train_accuracy))\n",
    "\n",
    "    test_accuracy = sess.run(accuracy, feed_dict={X: X_test, Y: y_test_enc})\n",
    "    print(\"test accuracy %g\" % (test_accuracy))"
   ]
  }
 ],
 "metadata": {
  "kernelspec": {
   "display_name": "Python 3",
   "language": "python",
   "name": "python3"
  },
  "language_info": {
   "codemirror_mode": {
    "name": "ipython",
    "version": 3
   },
   "file_extension": ".py",
   "mimetype": "text/x-python",
   "name": "python",
   "nbconvert_exporter": "python",
   "pygments_lexer": "ipython3",
   "version": "3.5.2"
  }
 },
 "nbformat": 4,
 "nbformat_minor": 1
}
