{
 "cells": [
  {
   "cell_type": "code",
   "execution_count": 1,
   "metadata": {
    "collapsed": false
   },
   "outputs": [
    {
     "name": "stdout",
     "output_type": "stream",
     "text": [
      "Using matplotlib backend: MacOSX\n",
      "Populating the interactive namespace from numpy and matplotlib\n",
      "CPython 3.5.2\n",
      "IPython 5.1.0\n",
      "\n",
      "scipy 0.18.1\n",
      "numpy 1.11.2\n",
      "sklearn 0.18.1\n",
      "\n",
      "compiler   : GCC 4.2.1 Compatible Apple LLVM 4.2 (clang-425.0.28)\n",
      "system     : Darwin\n",
      "release    : 16.1.0\n",
      "machine    : x86_64\n",
      "processor  : i386\n",
      "CPU cores  : 8\n",
      "interpreter: 64bit\n"
     ]
    }
   ],
   "source": [
    "%pylab\n",
    "%matplotlib inline\n",
    "%load_ext watermark\n",
    "%watermark -v -m -p scipy,numpy,sklearn"
   ]
  },
  {
   "cell_type": "code",
   "execution_count": 2,
   "metadata": {
    "collapsed": true
   },
   "outputs": [],
   "source": [
    "from sklearn import datasets\n",
    "diabetes = datasets.load_diabetes()"
   ]
  },
  {
   "cell_type": "code",
   "execution_count": 3,
   "metadata": {
    "collapsed": false
   },
   "outputs": [],
   "source": [
    "class SingleNeuron(object):\n",
    "\n",
    "    def __init__(self):\n",
    "        self._w = 0         # 가중치 w\n",
    "        self._b = 0         # 바이어스 b\n",
    "        self._w_grad = 0\n",
    "        self._b_grad = 0\n",
    "        self._x = 0         # 입력값 x\n",
    "\n",
    "    def set_params(self, w, b):\n",
    "        \"\"\"가중치와 바이어스를 저장합니다.\"\"\"\n",
    "        self._w = w\n",
    "        self._b = b\n",
    "\n",
    "    def forpass(self, x):\n",
    "        \"\"\"정방향 수식 w * x + b 를 계산하고 결과를 리턴합니다.\"\"\"\n",
    "        self._x = x\n",
    "        _y_hat = self._w * self._x + self._b\n",
    "        return _y_hat\n",
    "\n",
    "    def backprop(self, err, lr=0.1):\n",
    "        \"\"\"에러를 입력받아 가중치와 바이어스의 변화율을 곱하고 평균을 낸 후 감쇠된 변경량을 저장합니다.\"\"\"\n",
    "        m = len(self._x)\n",
    "        self._w_grad = lr * np.sum(err * self._x) / m\n",
    "        self._b_grad = lr * np.sum(err * 1) / m\n",
    "\n",
    "    def update_grad(self, l2=0):\n",
    "        \"\"\"계산된 파라메타의 변경량을 업데이트하여 새로운 파라메타를 셋팅합니다.\"\"\"\n",
    "        self.set_params(self._w + self._w_grad - l2 * self._w, self._b + self._b_grad)\n",
    "\n",
    "    def fit(self, X, y, n_iter=10, lr=0.1, cost_check=False, l2=0):\n",
    "        \"\"\"정방향 계산을 하고 역방향으로 에러를 전파시키면서 모델을 최적화시킵니다.\"\"\"\n",
    "        cost = []\n",
    "        for i in range(n_iter):\n",
    "            y_hat = self.forpass(X)\n",
    "            error = y - y_hat\n",
    "            self.backprop(error, lr)\n",
    "            self.update_grad(l2/len(y))\n",
    "            if cost_check:\n",
    "                cost.append(np.sum(np.square(y - y_hat))/len(y))\n",
    "        return cost"
   ]
  },
  {
   "cell_type": "code",
   "execution_count": 4,
   "metadata": {
    "collapsed": true
   },
   "outputs": [],
   "source": [
    "from sklearn.model_selection import train_test_split"
   ]
  },
  {
   "cell_type": "code",
   "execution_count": 5,
   "metadata": {
    "collapsed": true
   },
   "outputs": [],
   "source": [
    "X_train, X_test, y_train, y_test = train_test_split(diabetes.data[:, 2], diabetes.target, \\\n",
    "                                                    test_size=0.1, random_state=10)"
   ]
  },
  {
   "cell_type": "code",
   "execution_count": 6,
   "metadata": {
    "collapsed": false
   },
   "outputs": [
    {
     "name": "stdout",
     "output_type": "stream",
     "text": [
      "(397,) (45,) (397,) (45,)\n"
     ]
    }
   ],
   "source": [
    "print(X_train.shape, X_test.shape, y_train.shape, y_test.shape)"
   ]
  },
  {
   "cell_type": "code",
   "execution_count": 7,
   "metadata": {
    "collapsed": false
   },
   "outputs": [],
   "source": [
    "n1 = SingleNeuron()"
   ]
  },
  {
   "cell_type": "code",
   "execution_count": 8,
   "metadata": {
    "collapsed": false
   },
   "outputs": [
    {
     "name": "stdout",
     "output_type": "stream",
     "text": [
      "Final W 946.291309007\n",
      "Final b 151.784075857\n"
     ]
    }
   ],
   "source": [
    "n1.set_params(5, 1)\n",
    "n1.fit(X_train, y_train, 30000)\n",
    "print('Final W', n1._w)\n",
    "print('Final b', n1._b)"
   ]
  },
  {
   "cell_type": "code",
   "execution_count": 9,
   "metadata": {
    "collapsed": false
   },
   "outputs": [
    {
     "name": "stdout",
     "output_type": "stream",
     "text": [
      "3330.44578806\n"
     ]
    }
   ],
   "source": [
    "y_hat = n1.forpass(X_test)\n",
    "print(np.sum(np.square(y_test - y_hat))/len(y_test))"
   ]
  },
  {
   "cell_type": "code",
   "execution_count": 10,
   "metadata": {
    "collapsed": false
   },
   "outputs": [
    {
     "name": "stdout",
     "output_type": "stream",
     "text": [
      "3330.44578806\n"
     ]
    }
   ],
   "source": [
    "from sklearn import metrics\n",
    "print(metrics.mean_squared_error(y_test, y_hat))"
   ]
  },
  {
   "cell_type": "code",
   "execution_count": 11,
   "metadata": {
    "collapsed": false
   },
   "outputs": [
    {
     "name": "stdout",
     "output_type": "stream",
     "text": [
      "Coefficients:  [ 945.04189399] [ 151.77515304]\n"
     ]
    }
   ],
   "source": [
    "from sklearn import linear_model\n",
    "\n",
    "sgd_regr = linear_model.SGDRegressor(n_iter=30000, penalty='none')\n",
    "sgd_regr.fit(X_train.reshape(-1, 1), y_train)\n",
    "print('Coefficients: ', sgd_regr.coef_, sgd_regr.intercept_)"
   ]
  },
  {
   "cell_type": "code",
   "execution_count": 12,
   "metadata": {
    "collapsed": false
   },
   "outputs": [
    {
     "name": "stdout",
     "output_type": "stream",
     "text": [
      "3330.62098941\n"
     ]
    }
   ],
   "source": [
    "y_hat = sgd_regr.predict(X_test.reshape(-1, 1))\n",
    "print(metrics.mean_squared_error(y_test, y_hat))"
   ]
  },
  {
   "cell_type": "code",
   "execution_count": 13,
   "metadata": {
    "collapsed": false
   },
   "outputs": [],
   "source": [
    "costs = []\n",
    "learning_rate = [1.999, 1.0, 0.1]\n",
    "for lr in learning_rate:\n",
    "    n1.set_params(5, 1)\n",
    "    costs.append([])\n",
    "    costs[-1] = n1.fit(X_train, y_train, 2000, lr, True)"
   ]
  },
  {
   "cell_type": "code",
   "execution_count": 14,
   "metadata": {
    "collapsed": false
   },
   "outputs": [
    {
     "data": {
      "image/png": "[encoded data removed]",
      "text/plain": [
       "<matplotlib.figure.Figure at 0x1126b95f8>"
      ]
     },
     "metadata": {},
     "output_type": "display_data"
    }
   ],
   "source": [
    "for i, color in enumerate(['red', 'blue', 'black']):\n",
    "    plt.plot(list(range(2000)), costs[i], color=color)\n",
    "plt.ylim(3500, 7000)\n",
    "plt.xlabel('iteration')\n",
    "plt.ylabel('cost')\n",
    "plt.show()"
   ]
  },
  {
   "cell_type": "code",
   "execution_count": 15,
   "metadata": {
    "collapsed": false
   },
   "outputs": [
    {
     "name": "stdout",
     "output_type": "stream",
     "text": [
      "3330.8154743\n",
      "3331.74740789\n",
      "3335.16964255\n"
     ]
    }
   ],
   "source": [
    "learning_rate = [1.2, 1.0, 0.8]\n",
    "for lr in learning_rate:\n",
    "    n1.set_params(5, 1)\n",
    "    n1.fit(X_train, y_train, 2000, lr)\n",
    "    y_hat = n1.forpass(X_test)\n",
    "    print(metrics.mean_squared_error(y_test, y_hat))"
   ]
  },
  {
   "cell_type": "code",
   "execution_count": 16,
   "metadata": {
    "collapsed": false
   },
   "outputs": [],
   "source": [
    "from sklearn.model_selection import KFold\n",
    "kf = KFold(n_splits=5, shuffle=True, random_state=10)"
   ]
  },
  {
   "cell_type": "code",
   "execution_count": 17,
   "metadata": {
    "collapsed": false
   },
   "outputs": [
    {
     "name": "stdout",
     "output_type": "stream",
     "text": [
      "4006.76059166\n",
      "4006.43602691\n",
      "4005.6619766\n"
     ]
    }
   ],
   "source": [
    "learning_rate = [1.2, 1.0, 0.8]\n",
    "for lr in learning_rate:\n",
    "    validation_errors = 0\n",
    "    for train, validation in kf.split(X_train):\n",
    "        n1.fit(X_train[train], y_train[train], 2000, lr)\n",
    "        y_hat = n1.forpass(X_train[validation])\n",
    "        validation_errors += metrics.mean_squared_error(y_train[validation], y_hat)\n",
    "    print(validation_errors/5)"
   ]
  },
  {
   "cell_type": "code",
   "execution_count": 18,
   "metadata": {
    "collapsed": false
   },
   "outputs": [
    {
     "name": "stdout",
     "output_type": "stream",
     "text": [
      "Final W 935.654492908\n",
      "Final b 151.779158984\n",
      "3331.74740789\n",
      "Final W 842.993426674\n",
      "Final b 151.736424518\n",
      "3371.75796633\n"
     ]
    }
   ],
   "source": [
    "costs = []\n",
    "for l2 in [0, 0.1]:\n",
    "    costs.append([])\n",
    "    n1.set_params(5, 1)\n",
    "    costs[-1] = n1.fit(X_train, y_train, 2000, 1.0, cost_check=True, l2=l2)\n",
    "    print('Final W', n1._w)\n",
    "    print('Final b', n1._b)\n",
    "    y_hat = n1.forpass(X_test)\n",
    "    print(metrics.mean_squared_error(y_test, y_hat))"
   ]
  },
  {
   "cell_type": "code",
   "execution_count": 19,
   "metadata": {
    "collapsed": false
   },
   "outputs": [
    {
     "data": {
      "image/png": "[encoded data removed]",
      "text/plain": [
       "<matplotlib.figure.Figure at 0x1126d42b0>"
      ]
     },
     "metadata": {},
     "output_type": "display_data"
    }
   ],
   "source": [
    "for i, color in enumerate(['red', 'blue']):\n",
    "    plt.plot(list(range(2000)), costs[i], color=color)\n",
    "plt.ylim(3500, 7000)\n",
    "plt.show()"
   ]
  }
 ],
 "metadata": {
  "kernelspec": {
   "display_name": "Python 3",
   "language": "python",
   "name": "python3"
  },
  "language_info": {
   "codemirror_mode": {
    "name": "ipython",
    "version": 3
   },
   "file_extension": ".py",
   "mimetype": "text/x-python",
   "name": "python",
   "nbconvert_exporter": "python",
   "pygments_lexer": "ipython3",
   "version": "3.5.2"
  }
 },
 "nbformat": 4,
 "nbformat_minor": 1
}
