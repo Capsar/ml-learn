{
 "cells": [
  {
   "cell_type": "code",
   "execution_count": 1,
   "metadata": {
    "collapsed": false,
    "scrolled": true
   },
   "outputs": [
    {
     "name": "stdout",
     "output_type": "stream",
     "text": [
      "Using matplotlib backend: MacOSX\n",
      "Populating the interactive namespace from numpy and matplotlib\n",
      "CPython 3.5.2\n",
      "IPython 5.1.0\n",
      "\n",
      "scipy 0.18.1\n",
      "sklearn 0.18\n",
      "numpy 1.11.2\n",
      "\n",
      "compiler   : GCC 4.2.1 Compatible Apple LLVM 4.2 (clang-425.0.28)\n",
      "system     : Darwin\n",
      "release    : 16.1.0\n",
      "machine    : x86_64\n",
      "processor  : i386\n",
      "CPU cores  : 8\n",
      "interpreter: 64bit\n"
     ]
    }
   ],
   "source": [
    "%pylab\n",
    "%matplotlib inline\n",
    "%load_ext watermark\n",
    "%watermark -v -m -p scipy,sklearn,numpy"
   ]
  },
  {
   "cell_type": "code",
   "execution_count": 2,
   "metadata": {
    "collapsed": true
   },
   "outputs": [],
   "source": [
    "from sklearn import datasets\n",
    "diabetes = datasets.load_diabetes()"
   ]
  },
  {
   "cell_type": "code",
   "execution_count": 3,
   "metadata": {
    "collapsed": false
   },
   "outputs": [
    {
     "data": {
      "text/plain": [
       "<matplotlib.text.Text at 0x11252c358>"
      ]
     },
     "execution_count": 3,
     "metadata": {},
     "output_type": "execute_result"
    },
    {
     "data": {
      "image/png": "[encoded data removed]",
      "text/plain": [
       "<matplotlib.figure.Figure at 0x11251a358>"
      ]
     },
     "metadata": {},
     "output_type": "display_data"
    }
   ],
   "source": [
    "plt.scatter(diabetes.data[:, 2], diabetes.target)\n",
    "plt.xlabel('X')\n",
    "plt.ylabel('Y')"
   ]
  },
  {
   "cell_type": "code",
   "execution_count": 4,
   "metadata": {
    "collapsed": false
   },
   "outputs": [],
   "source": [
    "class SingleNeuron(object):\n",
    "\n",
    "    def __init__(self):\n",
    "        self._w = 0     # 가중치 w\n",
    "        self._b = 0     # 바이어스 b\n",
    "        self._x = 0     # 입력값 x\n",
    "\n",
    "    def set_params(self, w, b):\n",
    "        \"\"\"가중치와 바이어스를 저장합니다.\"\"\"\n",
    "        self._w = w\n",
    "        self._b = b\n",
    "\n",
    "    def forpass(self, x):\n",
    "        \"\"\"정방향 수식 w * x + b 를 계산하고 결과를 리턴합니다.\"\"\"\n",
    "        self._x = x\n",
    "        _y_hat = self._w * self._x + self._b\n",
    "        return _y_hat\n",
    "    \n",
    "    def backprop(self, err):\n",
    "        \"\"\"에러를 입력받아 가중치와 바이어스의 변화율을 곱하고 평균을 낸 후 감쇠된 변경량을 저장합니다.\"\"\"\n",
    "        m = len(self._x)\n",
    "        self._w_grad = 0.1 * np.sum(err * self._x) / m\n",
    "        self._b_grad = 0.1 * np.sum(err * 1) / m\n",
    "\n",
    "    def update_grad(self):\n",
    "        \"\"\"계산된 파라메타의 변경량을 업데이트하여 새로운 파라메타를 셋팅합니다.\"\"\"\n",
    "        self.set_params(self._w + self._w_grad, self._b + self._b_grad)"
   ]
  },
  {
   "cell_type": "code",
   "execution_count": 5,
   "metadata": {
    "collapsed": false
   },
   "outputs": [],
   "source": [
    "n1 = SingleNeuron()"
   ]
  },
  {
   "cell_type": "code",
   "execution_count": 6,
   "metadata": {
    "collapsed": false
   },
   "outputs": [
    {
     "data": {
      "text/plain": [
       "16"
      ]
     },
     "execution_count": 6,
     "metadata": {},
     "output_type": "execute_result"
    }
   ],
   "source": [
    "n1.set_params(5, 1)\n",
    "n1.forpass(3)"
   ]
  },
  {
   "cell_type": "code",
   "execution_count": 7,
   "metadata": {
    "collapsed": false
   },
   "outputs": [
    {
     "data": {
      "text/plain": [
       "19"
      ]
     },
     "execution_count": 7,
     "metadata": {},
     "output_type": "execute_result"
    }
   ],
   "source": [
    "n1.set_params(6, 1)\n",
    "n1.forpass(3)"
   ]
  },
  {
   "cell_type": "code",
   "execution_count": 8,
   "metadata": {
    "collapsed": false
   },
   "outputs": [
    {
     "data": {
      "text/plain": [
       "21"
      ]
     },
     "execution_count": 8,
     "metadata": {},
     "output_type": "execute_result"
    }
   ],
   "source": [
    "n1.set_params(5, 1)\n",
    "n1.forpass(4)"
   ]
  },
  {
   "cell_type": "code",
   "execution_count": 9,
   "metadata": {
    "collapsed": false
   },
   "outputs": [
    {
     "data": {
      "text/plain": [
       "17"
      ]
     },
     "execution_count": 9,
     "metadata": {},
     "output_type": "execute_result"
    }
   ],
   "source": [
    "n1.set_params(5, 2)\n",
    "n1.forpass(3)"
   ]
  },
  {
   "cell_type": "code",
   "execution_count": 10,
   "metadata": {
    "collapsed": false
   },
   "outputs": [
    {
     "data": {
      "text/plain": [
       "15"
      ]
     },
     "execution_count": 10,
     "metadata": {},
     "output_type": "execute_result"
    }
   ],
   "source": [
    "n1.set_params(5, 0)\n",
    "n1.forpass(3)"
   ]
  },
  {
   "cell_type": "code",
   "execution_count": 11,
   "metadata": {
    "collapsed": false
   },
   "outputs": [
    {
     "name": "stdout",
     "output_type": "stream",
     "text": [
      "Final W 948.370777729\n",
      "Final b 152.133484163\n"
     ]
    }
   ],
   "source": [
    "n1.set_params(5, 1)\n",
    "for i in range(30000):\n",
    "    y_hat = n1.forpass(diabetes.data[:, 2])\n",
    "    error = diabetes.target - y_hat\n",
    "    n1.backprop(error)\n",
    "    n1.update_grad()\n",
    "print('Final W', n1._w)\n",
    "print('Final b', n1._b)"
   ]
  },
  {
   "cell_type": "code",
   "execution_count": 12,
   "metadata": {
    "collapsed": false
   },
   "outputs": [
    {
     "data": {
      "text/plain": [
       "<matplotlib.text.Text at 0x105d065f8>"
      ]
     },
     "execution_count": 12,
     "metadata": {},
     "output_type": "execute_result"
    },
    {
     "data": {
      "image/png": "[encoded data removed]",
      "text/plain": [
       "<matplotlib.figure.Figure at 0x112543160>"
      ]
     },
     "metadata": {},
     "output_type": "display_data"
    }
   ],
   "source": [
    "plt.scatter(diabetes.data[:, 2], diabetes.target)\n",
    "plt.plot(diabetes.data[:, 2], diabetes.data[:, 2]*n1._w + n1._b)\n",
    "plt.xlabel('X')\n",
    "plt.ylabel('Y')"
   ]
  },
  {
   "cell_type": "code",
   "execution_count": 13,
   "metadata": {
    "collapsed": false
   },
   "outputs": [
    {
     "name": "stdout",
     "output_type": "stream",
     "text": [
      "Coefficients:  [ 948.18180762] [ 152.15372015]\n"
     ]
    }
   ],
   "source": [
    "from sklearn import linear_model\n",
    "\n",
    "sgd_regr = linear_model.SGDRegressor(n_iter=30000, penalty='none')\n",
    "sgd_regr.fit(diabetes.data[:, 2].reshape(-1, 1), diabetes.target)\n",
    "print('Coefficients: ', sgd_regr.coef_, sgd_regr.intercept_)"
   ]
  },
  {
   "cell_type": "code",
   "execution_count": 14,
   "metadata": {
    "collapsed": false
   },
   "outputs": [
    {
     "name": "stdout",
     "output_type": "stream",
     "text": [
      "[ 0.06169621 -0.05147406  0.04445121 -0.01159501 -0.03638469 -0.04069594\n",
      " -0.04716281 -0.00189471  0.06169621  0.03906215]\n"
     ]
    }
   ],
   "source": [
    "print(diabetes.data[:, 2][:10])"
   ]
  },
  {
   "cell_type": "code",
   "execution_count": 15,
   "metadata": {
    "collapsed": false
   },
   "outputs": [
    {
     "name": "stdout",
     "output_type": "stream",
     "text": [
      "[[ 0.06169621]\n",
      " [-0.05147406]\n",
      " [ 0.04445121]\n",
      " [-0.01159501]\n",
      " [-0.03638469]\n",
      " [-0.04069594]\n",
      " [-0.04716281]\n",
      " [-0.00189471]\n",
      " [ 0.06169621]\n",
      " [ 0.03906215]]\n"
     ]
    }
   ],
   "source": [
    "print(diabetes.data[:, 2][:10].reshape(-1, 1))"
   ]
  },
  {
   "cell_type": "code",
   "execution_count": 16,
   "metadata": {
    "collapsed": false
   },
   "outputs": [
    {
     "name": "stdout",
     "output_type": "stream",
     "text": [
      "Coefficients:  [ 949.43526038] 152.133484163\n"
     ]
    }
   ],
   "source": [
    "sgd_regr = linear_model.LinearRegression()\n",
    "sgd_regr.fit(np.vstack(diabetes.data[:,2]), diabetes.target)\n",
    "print('Coefficients: ', sgd_regr.coef_, sgd_regr.intercept_)"
   ]
  },
  {
   "cell_type": "code",
   "execution_count": null,
   "metadata": {
    "collapsed": true
   },
   "outputs": [],
   "source": []
  }
 ],
 "metadata": {
  "kernelspec": {
   "display_name": "Python 3",
   "language": "python",
   "name": "python3"
  },
  "language_info": {
   "codemirror_mode": {
    "name": "ipython",
    "version": 3
   },
   "file_extension": ".py",
   "mimetype": "text/x-python",
   "name": "python",
   "nbconvert_exporter": "python",
   "pygments_lexer": "ipython3",
   "version": "3.5.2"
  }
 },
 "nbformat": 4,
 "nbformat_minor": 1
}
